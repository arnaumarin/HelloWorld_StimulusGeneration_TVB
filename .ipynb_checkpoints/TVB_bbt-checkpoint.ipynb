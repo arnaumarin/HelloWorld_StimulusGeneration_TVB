{
 "cells": [
  {
   "cell_type": "markdown",
   "metadata": {},
   "source": [
    "# Optm  \n",
    "."
   ]
  },
  {
   "cell_type": "code",
   "execution_count": 1,
   "metadata": {},
   "outputs": [
    {
     "name": "stdout",
     "output_type": "stream",
     "text": [
      "2022-02-14 18:14:12,778 - WARNING - tvb.simulator.common - psutil module not available: no warnings will be issued when a\n",
      "    simulation may require more memory than available\n",
      "   INFO  log level set to INFO\n"
     ]
    }
   ],
   "source": [
    "# load libraries\n",
    "import csv\n",
    "import matplotlib.pyplot as plt\n",
    "import multiprocessing as mp \n",
    "import numpy as np\n",
    "import scipy.io as sio\n",
    "import scipy.stats as stat\n",
    "import zipfile\n",
    "from tvb.simulator.plot.tools import *\n",
    "from tvb.simulator.lab import *\n",
    "from tvb.contrib.scripts.models.reduced_wong_wang_exc_io_inh_i import ReducedWongWangExcIOInhI\n",
    "\n",
    "LOG = get_logger('BBt')"
   ]
  },
  {
   "cell_type": "code",
   "execution_count": 2,
   "metadata": {},
   "outputs": [
    {
     "name": "stdout",
     "output_type": "stream",
     "text": [
      "1.4.0\n"
     ]
    }
   ],
   "source": [
    "import pandas as pd\n",
    "print(pd.__version__)"
   ]
  },
  {
   "cell_type": "markdown",
   "metadata": {},
   "source": [
    "## Introduction  \n",
    "a"
   ]
  },
  {
   "cell_type": "markdown",
   "metadata": {},
   "source": [
    "## Load files \n",
    "Put Input data folder in the same directory of this python notebook.\n",
    "Input data needs to follow the directory structure below:\n",
    "```\n",
    "TVB_bbt.ipynb\n",
    "StaticOptimization.xlsx\n",
    "TVB_input\n",
    "│   CONXXTX (Control/Patients + number + T1/T2)\n",
    "│   │   FC.mat\n",
    "│   │   SCthrAn.mat\n",
    "│   └───CON02T1_TVB.zip\n",
    "│       │   areas.txt\n",
    "│       │   average_orientations.txt\n",
    "│       │   centres.txt\n",
    "│       │   cortical.txt\n",
    "│       │   hemisphere.txt\n",
    "│       │   tract_lengths.txt.txt\n",
    "│       │   weights.txt\n",
    "│   \n",
    "└───CONXXTX\n",
    "    ```"
   ]
  },
  {
   "cell_type": "code",
   "execution_count": 3,
   "metadata": {},
   "outputs": [],
   "source": [
    "# Set directory path\n",
    "import os\n",
    "data_dir = os.path.abspath(\"TVB_input\")\n",
    "zip_suffix = \"_TVB\""
   ]
  },
  {
   "cell_type": "code",
   "execution_count": 4,
   "metadata": {},
   "outputs": [
    {
     "data": {
      "image/png": "[encoded data removed]",
      "text/plain": [
       "<Figure size 720x720 with 1 Axes>"
      ]
     },
     "metadata": {
      "needs_background": "light"
     },
     "output_type": "display_data"
    }
   ],
   "source": [
    "var = pd.read_excel('StaticOptimization.xlsx', index_col=1)\n",
    "''' print(var) '''\n",
    "x = list(var['X'])\n",
    "y = list(var['Ynorm'])\n",
    "plt.figure(figsize=(10,10))\n",
    "plt.style.use('seaborn')\n",
    "plt.scatter(x,y,marker=\"*\",s=100,edgecolors=\"black\",c=\"yellow\")\n",
    "plt.title(\"StaticOptmization in time\")\n",
    "plt.show()"
   ]
  },
  {
   "cell_type": "markdown",
   "metadata": {},
   "source": [
    "## Connecting\n",
    "Using Static optimization in time as input of evoked responses \n",
    "\n"
   ]
  },
  {
   "cell_type": "code",
   "execution_count": 5,
   "metadata": {},
   "outputs": [
    {
     "name": "stdout",
     "output_type": "stream",
     "text": [
      "WARNING  File 'hemispheres' not found in ZIP.\n"
     ]
    }
   ],
   "source": [
    "conn = connectivity.Connectivity.from_file()\n",
    "conn_coupling = coupling.Linear(a=numpy.array([0.042]))"
   ]
  },
  {
   "cell_type": "markdown",
   "metadata": {},
   "source": [
    "## Set up a model (arbitrary)\n"
   ]
  },
  {
   "cell_type": "code",
   "execution_count": 6,
   "metadata": {},
   "outputs": [],
   "source": [
    "mod = models.Generic2dOscillator(a=numpy.array([-0.5]), b=numpy.array([-15.0]), c=numpy.array([0.0]), d=numpy.array([0.02]))"
   ]
  },
  {
   "cell_type": "code",
   "execution_count": 7,
   "metadata": {},
   "outputs": [],
   "source": [
    "hiss    = noise.Additive(nsig = numpy.array([0.015]))\n",
    "heunint = integrators.HeunStochastic(dt=2**-6, noise=hiss)"
   ]
  },
  {
   "cell_type": "markdown",
   "metadata": {},
   "source": [
    "## Build a Stimulus\n",
    "According to the study by Yuan et al. [1], hand, wrist and arm movement cover the position of C3 and C4 to the center of scalp. Accordingly, apart from the positions of C3, Cz and C4 that are on the area, the adjacent positions which are F3, Fz, F4, P3, Pz, P4, T7 and T8 are also chosen. [1]: https://doi.org/10.1186/s12938-018-0534-0\n",
    "\n",
    "\n",
    "\n",
    "In TVB's connectivity demo dataset region 5 and 6 represent areas of C3 and C4. (https://github.com/the-virtual-brain/tvb-data/blob/master/tvb_data/sensors/eeg_brainstorm_65.txt)"
   ]
  },
  {
   "cell_type": "code",
   "execution_count": 8,
   "metadata": {},
   "outputs": [],
   "source": [
    "conn.configure()\n",
    "\n",
    "stim_weights = numpy.zeros((conn.number_of_regions, 1))\n",
    "#stim_weights[nodes] = numpy.array([3.5, 0.0])[:, numpy.newaxis]\n",
    "eqn_t = equations.PulseTrain()\n",
    "eqn_t.parameters[\"onset\"] = 500.0 # ms\n",
    "eqn_t.parameters[\"tau\"]   = 5.0   # ms\n",
    "eqn_t.parameters[\"T\"]     = 50.  # 0.02kHz repetition frequency\n",
    "\n",
    "stimulus = patterns.StimuliRegion(temporal = eqn_t,\n",
    "                                  connectivity = conn, \n",
    "                                  weight = stim_weights)"
   ]
  },
  {
   "cell_type": "code",
   "execution_count": 9,
   "metadata": {},
   "outputs": [],
   "source": [
    "weights=y;\n",
    "#for i in range(len(weights)):\n",
    "#    stim_weights[nodes[0]] = y[i]\n",
    "#    stim_weights[nodes[1]] = y[i]\n",
    "    \n",
    "#print(stim_weights[nodes])"
   ]
  },
  {
   "cell_type": "markdown",
   "metadata": {},
   "source": [
    "## Defining the stimuli\n"
   ]
  },
  {
   "cell_type": "code",
   "execution_count": 10,
   "metadata": {},
   "outputs": [
    {
     "name": "stdout",
     "output_type": "stream",
     "text": [
      "WARNING  File 'hemispheres' not found in ZIP.\n"
     ]
    }
   ],
   "source": [
    "conn = connectivity.Connectivity.from_file()\n",
    "nodes = [5, 8] #C3 and P3\n",
    "# configure stimulus spatial pattern\n",
    "weighting = numpy.zeros((76, ))\n",
    "\n",
    "eqn_t = equations.PulseTrain()\n",
    "eqn_t.parameters['onset'] = 1.5e3 #ms\n",
    "eqn_t.parameters['T'] = 100.0     #ms\n",
    "eqn_t.parameters['tau'] = 50.0    #0.02KHz repetition freq"
   ]
  },
  {
   "cell_type": "code",
   "execution_count": 11,
   "metadata": {},
   "outputs": [],
   "source": [
    "stimulus = patterns.StimuliRegion(\n",
    "    temporal=eqn_t,\n",
    "    connectivity=conn,\n",
    "    weight=weighting)"
   ]
  },
  {
   "cell_type": "code",
   "execution_count": 12,
   "metadata": {},
   "outputs": [
    {
     "data": {
      "image/png": "[encoded data removed]",
      "text/plain": [
       "<Figure size 576x396 with 4 Axes>"
      ]
     },
     "metadata": {},
     "output_type": "display_data"
    }
   ],
   "source": [
    "#Configure space and time for 1 case\n",
    "weighting[nodes] = 0.5\n",
    "\n",
    "stimulus = patterns.StimuliRegion(\n",
    "    temporal=eqn_t,\n",
    "    connectivity=conn,\n",
    "    weight=weighting)\n",
    "\n",
    "stimulus.configure_space()\n",
    "stimulus.configure_time(numpy.arange(0., 2e3, 2**-4)) #start, finish, \n",
    "\n",
    "\n",
    "\n",
    "#plot\n",
    "plot_pattern(stimulus)"
   ]
  },
  {
   "cell_type": "markdown",
   "metadata": {},
   "source": [
    "What should be seen above are three plots:\n",
    "1)top-left is the spatial component of the stimuli,\n",
    "indicating the strength with which the stimuli enters each node; \n",
    "2)bottom-left is the temporal profile for the stimuli; \n",
    "3)the colour plot on the right represents the combination of these\n",
    "two components."
   ]
  },
  {
   "cell_type": "code",
   "execution_count": 13,
   "metadata": {},
   "outputs": [
    {
     "name": "stdout",
     "output_type": "stream",
     "text": [
      "0.42654045147826025\n"
     ]
    },
    {
     "data": {
      "image/png": "[encoded data removed]",
      "text/plain": [
       "<Figure size 576x396 with 4 Axes>"
      ]
     },
     "metadata": {},
     "output_type": "display_data"
    }
   ],
   "source": [
    "weights=y; #y is the Static Optimization obtained with the OpenSim\n",
    "f_sampling = 1/(x[1]-x[2])\n",
    "for i in range(len(weights)):\n",
    "    weighting[nodes] = y[i]\n",
    "    \n",
    "    stimulus = patterns.StimuliRegion(\n",
    "    temporal=eqn_t,\n",
    "    connectivity=conn,\n",
    "    weight=weighting)\n",
    "    \n",
    "    stimulus.configure_space()\n",
    "    stimulus.configure_time(numpy.arange(0*(len(weights))*f_sampling, 2e3, 2**-4)) #start, finish, slp\n",
    "    plot_pattern(stimulus)\n",
    "    #hold plots\n",
    "print(y[i])"
   ]
  },
  {
   "cell_type": "code",
   "execution_count": 16,
   "metadata": {},
   "outputs": [
    {
     "name": "stdout",
     "output_type": "stream",
     "text": [
      "20.0\n"
     ]
    }
   ],
   "source": [
    "f_sampling = 1/(x[2]-x[1])\n",
    "print(f_sampling)"
   ]
  },
  {
   "cell_type": "markdown",
   "metadata": {},
   "source": [
    "For every value in the Static Optimization, the time configuration should be detailed (start/finish, slp of the stimulus). "
   ]
  },
  {
   "cell_type": "code",
   "execution_count": null,
   "metadata": {},
   "outputs": [],
   "source": []
  }
 ],
 "metadata": {
  "kernelspec": {
   "display_name": "Python 3 (ipykernel)",
   "language": "python",
   "name": "python3"
  },
  "language_info": {
   "codemirror_mode": {
    "name": "ipython",
    "version": 3
   },
   "file_extension": ".py",
   "mimetype": "text/x-python",
   "name": "python",
   "nbconvert_exporter": "python",
   "pygments_lexer": "ipython3",
   "version": "3.10.0"
  }
 },
 "nbformat": 4,
 "nbformat_minor": 2
}
